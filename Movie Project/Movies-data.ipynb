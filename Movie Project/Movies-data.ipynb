{
 "cells": [
  {
   "cell_type": "markdown",
   "id": "417ebfd2",
   "metadata": {},
   "source": [
    "# Data P1"
   ]
  },
  {
   "cell_type": "code",
   "execution_count": 1,
   "id": "7d3a02e9",
   "metadata": {},
   "outputs": [],
   "source": [
    "import pandas as pd\n",
    "import numpy as np"
   ]
  },
  {
   "cell_type": "code",
   "execution_count": 2,
   "id": "d6a4cad9",
   "metadata": {},
   "outputs": [],
   "source": [
    "basics = pd.read_csv(\"https://datasets.imdbws.com/title.basics.tsv.gz\", sep='\\t',\n",
    "                    low_memory=False)"
   ]
  },
  {
   "cell_type": "code",
   "execution_count": 3,
   "id": "3e9abe5e",
   "metadata": {},
   "outputs": [],
   "source": [
    "ratings = pd.read_csv(\"https://datasets.imdbws.com/title.ratings.tsv.gz\",\n",
    "                      sep='\\t', low_memory=False)"
   ]
  },
  {
   "cell_type": "code",
   "execution_count": 4,
   "id": "89b3c789",
   "metadata": {},
   "outputs": [],
   "source": [
    "akas = pd.read_csv(\"https://datasets.imdbws.com/title.akas.tsv.gz\", sep='\\t',\n",
    "                    low_memory=False)"
   ]
  },
  {
   "cell_type": "markdown",
   "id": "7e306d23",
   "metadata": {},
   "source": [
    "Some columns need to be converted to numerical"
   ]
  },
  {
   "cell_type": "markdown",
   "id": "1e22e843",
   "metadata": {},
   "source": [
    "## Cleaning Data"
   ]
  },
  {
   "cell_type": "markdown",
   "id": "ef4b283f",
   "metadata": {},
   "source": [
    "### akas"
   ]
  },
  {
   "cell_type": "code",
   "execution_count": 5,
   "id": "8e134b6e",
   "metadata": {},
   "outputs": [
    {
     "name": "stdout",
     "output_type": "stream",
     "text": [
      "<class 'pandas.core.frame.DataFrame'>\n",
      "RangeIndex: 34259952 entries, 0 to 34259951\n",
      "Data columns (total 8 columns):\n",
      " #   Column           Dtype \n",
      "---  ------           ----- \n",
      " 0   titleId          object\n",
      " 1   ordering         int64 \n",
      " 2   title            object\n",
      " 3   region           object\n",
      " 4   language         object\n",
      " 5   types            object\n",
      " 6   attributes       object\n",
      " 7   isOriginalTitle  object\n",
      "dtypes: int64(1), object(7)\n",
      "memory usage: 2.0+ GB\n"
     ]
    }
   ],
   "source": [
    "akas.info()"
   ]
  },
  {
   "cell_type": "markdown",
   "id": "1ef62b8a",
   "metadata": {},
   "source": [
    "Changing \\N to NaNs"
   ]
  },
  {
   "cell_type": "code",
   "execution_count": 6,
   "id": "be83f45b",
   "metadata": {},
   "outputs": [],
   "source": [
    "akas.replace({'\\\\N': np.nan}, inplace=True)"
   ]
  },
  {
   "cell_type": "markdown",
   "id": "f4aa6d20",
   "metadata": {},
   "source": [
    "Keep only US movies"
   ]
  },
  {
   "cell_type": "code",
   "execution_count": 7,
   "id": "d6fa002b",
   "metadata": {},
   "outputs": [
    {
     "data": {
      "text/plain": [
       "DE    4087739\n",
       "JP    4086217\n",
       "FR    4085674\n",
       "IN    4021347\n",
       "ES    4008685\n",
       "       ...   \n",
       "CC          1\n",
       "TV          1\n",
       "NU          1\n",
       "PW          1\n",
       "NR          1\n",
       "Name: region, Length: 247, dtype: int64"
      ]
     },
     "execution_count": 7,
     "metadata": {},
     "output_type": "execute_result"
    }
   ],
   "source": [
    "akas['region'].value_counts()"
   ]
  },
  {
   "cell_type": "code",
   "execution_count": 8,
   "id": "abfaec1a",
   "metadata": {},
   "outputs": [],
   "source": [
    "akas = akas[akas['region'] == 'US']"
   ]
  },
  {
   "cell_type": "code",
   "execution_count": 9,
   "id": "93160800",
   "metadata": {},
   "outputs": [
    {
     "data": {
      "text/plain": [
       "US    1395338\n",
       "Name: region, dtype: int64"
      ]
     },
     "execution_count": 9,
     "metadata": {},
     "output_type": "execute_result"
    }
   ],
   "source": [
    "akas['region'].value_counts()"
   ]
  },
  {
   "cell_type": "code",
   "execution_count": 10,
   "id": "c3160a31",
   "metadata": {},
   "outputs": [
    {
     "name": "stdout",
     "output_type": "stream",
     "text": [
      "<class 'pandas.core.frame.DataFrame'>\n",
      "Int64Index: 1395338 entries, 5 to 34259696\n",
      "Data columns (total 8 columns):\n",
      " #   Column           Non-Null Count    Dtype \n",
      "---  ------           --------------    ----- \n",
      " 0   titleId          1395338 non-null  object\n",
      " 1   ordering         1395338 non-null  int64 \n",
      " 2   title            1395338 non-null  object\n",
      " 3   region           1395338 non-null  object\n",
      " 4   language         3748 non-null     object\n",
      " 5   types            967778 non-null   object\n",
      " 6   attributes       45553 non-null    object\n",
      " 7   isOriginalTitle  1393993 non-null  object\n",
      "dtypes: int64(1), object(7)\n",
      "memory usage: 95.8+ MB\n"
     ]
    }
   ],
   "source": [
    "akas.info()"
   ]
  },
  {
   "cell_type": "markdown",
   "id": "5f203d6d",
   "metadata": {},
   "source": [
    "### basics"
   ]
  },
  {
   "cell_type": "code",
   "execution_count": 11,
   "id": "1bf18e12",
   "metadata": {
    "scrolled": true
   },
   "outputs": [
    {
     "name": "stdout",
     "output_type": "stream",
     "text": [
      "<class 'pandas.core.frame.DataFrame'>\n",
      "RangeIndex: 9463826 entries, 0 to 9463825\n",
      "Data columns (total 9 columns):\n",
      " #   Column          Dtype \n",
      "---  ------          ----- \n",
      " 0   tconst          object\n",
      " 1   titleType       object\n",
      " 2   primaryTitle    object\n",
      " 3   originalTitle   object\n",
      " 4   isAdult         object\n",
      " 5   startYear       object\n",
      " 6   endYear         object\n",
      " 7   runtimeMinutes  object\n",
      " 8   genres          object\n",
      "dtypes: object(9)\n",
      "memory usage: 649.8+ MB\n"
     ]
    },
    {
     "data": {
      "text/html": [
       "<div>\n",
       "<style scoped>\n",
       "    .dataframe tbody tr th:only-of-type {\n",
       "        vertical-align: middle;\n",
       "    }\n",
       "\n",
       "    .dataframe tbody tr th {\n",
       "        vertical-align: top;\n",
       "    }\n",
       "\n",
       "    .dataframe thead th {\n",
       "        text-align: right;\n",
       "    }\n",
       "</style>\n",
       "<table border=\"1\" class=\"dataframe\">\n",
       "  <thead>\n",
       "    <tr style=\"text-align: right;\">\n",
       "      <th></th>\n",
       "      <th>tconst</th>\n",
       "      <th>titleType</th>\n",
       "      <th>primaryTitle</th>\n",
       "      <th>originalTitle</th>\n",
       "      <th>isAdult</th>\n",
       "      <th>startYear</th>\n",
       "      <th>endYear</th>\n",
       "      <th>runtimeMinutes</th>\n",
       "      <th>genres</th>\n",
       "    </tr>\n",
       "  </thead>\n",
       "  <tbody>\n",
       "    <tr>\n",
       "      <th>0</th>\n",
       "      <td>tt0000001</td>\n",
       "      <td>short</td>\n",
       "      <td>Carmencita</td>\n",
       "      <td>Carmencita</td>\n",
       "      <td>0</td>\n",
       "      <td>1894</td>\n",
       "      <td>\\N</td>\n",
       "      <td>1</td>\n",
       "      <td>Documentary,Short</td>\n",
       "    </tr>\n",
       "    <tr>\n",
       "      <th>1</th>\n",
       "      <td>tt0000002</td>\n",
       "      <td>short</td>\n",
       "      <td>Le clown et ses chiens</td>\n",
       "      <td>Le clown et ses chiens</td>\n",
       "      <td>0</td>\n",
       "      <td>1892</td>\n",
       "      <td>\\N</td>\n",
       "      <td>5</td>\n",
       "      <td>Animation,Short</td>\n",
       "    </tr>\n",
       "    <tr>\n",
       "      <th>2</th>\n",
       "      <td>tt0000003</td>\n",
       "      <td>short</td>\n",
       "      <td>Pauvre Pierrot</td>\n",
       "      <td>Pauvre Pierrot</td>\n",
       "      <td>0</td>\n",
       "      <td>1892</td>\n",
       "      <td>\\N</td>\n",
       "      <td>4</td>\n",
       "      <td>Animation,Comedy,Romance</td>\n",
       "    </tr>\n",
       "    <tr>\n",
       "      <th>3</th>\n",
       "      <td>tt0000004</td>\n",
       "      <td>short</td>\n",
       "      <td>Un bon bock</td>\n",
       "      <td>Un bon bock</td>\n",
       "      <td>0</td>\n",
       "      <td>1892</td>\n",
       "      <td>\\N</td>\n",
       "      <td>12</td>\n",
       "      <td>Animation,Short</td>\n",
       "    </tr>\n",
       "    <tr>\n",
       "      <th>4</th>\n",
       "      <td>tt0000005</td>\n",
       "      <td>short</td>\n",
       "      <td>Blacksmith Scene</td>\n",
       "      <td>Blacksmith Scene</td>\n",
       "      <td>0</td>\n",
       "      <td>1893</td>\n",
       "      <td>\\N</td>\n",
       "      <td>1</td>\n",
       "      <td>Comedy,Short</td>\n",
       "    </tr>\n",
       "  </tbody>\n",
       "</table>\n",
       "</div>"
      ],
      "text/plain": [
       "      tconst titleType            primaryTitle           originalTitle  \\\n",
       "0  tt0000001     short              Carmencita              Carmencita   \n",
       "1  tt0000002     short  Le clown et ses chiens  Le clown et ses chiens   \n",
       "2  tt0000003     short          Pauvre Pierrot          Pauvre Pierrot   \n",
       "3  tt0000004     short             Un bon bock             Un bon bock   \n",
       "4  tt0000005     short        Blacksmith Scene        Blacksmith Scene   \n",
       "\n",
       "  isAdult startYear endYear runtimeMinutes                    genres  \n",
       "0       0      1894      \\N              1         Documentary,Short  \n",
       "1       0      1892      \\N              5           Animation,Short  \n",
       "2       0      1892      \\N              4  Animation,Comedy,Romance  \n",
       "3       0      1892      \\N             12           Animation,Short  \n",
       "4       0      1893      \\N              1              Comedy,Short  "
      ]
     },
     "execution_count": 11,
     "metadata": {},
     "output_type": "execute_result"
    }
   ],
   "source": [
    "basics.info()\n",
    "basics.head()"
   ]
  },
  {
   "cell_type": "markdown",
   "id": "8a85197b",
   "metadata": {},
   "source": [
    "replace \\N with np.nan"
   ]
  },
  {
   "cell_type": "code",
   "execution_count": 12,
   "id": "92ca9297",
   "metadata": {},
   "outputs": [],
   "source": [
    "basics.replace({'\\\\N': np.nan}, inplace=True)"
   ]
  },
  {
   "cell_type": "markdown",
   "id": "5c0fde0b",
   "metadata": {},
   "source": [
    "Remove NaNs from genre and runtimeMinutes columns"
   ]
  },
  {
   "cell_type": "code",
   "execution_count": 13,
   "id": "01587249",
   "metadata": {
    "scrolled": false
   },
   "outputs": [
    {
     "data": {
      "text/plain": [
       "431776"
      ]
     },
     "execution_count": 13,
     "metadata": {},
     "output_type": "execute_result"
    }
   ],
   "source": [
    "basics['genres'].isna().sum()"
   ]
  },
  {
   "cell_type": "code",
   "execution_count": 14,
   "id": "d6d2bbed",
   "metadata": {},
   "outputs": [
    {
     "data": {
      "text/plain": [
       "6748365"
      ]
     },
     "execution_count": 14,
     "metadata": {},
     "output_type": "execute_result"
    }
   ],
   "source": [
    "basics['runtimeMinutes'].isna().sum()"
   ]
  },
  {
   "cell_type": "code",
   "execution_count": 15,
   "id": "55cd38bd",
   "metadata": {
    "scrolled": true
   },
   "outputs": [],
   "source": [
    "basics.dropna(subset=['genres', 'runtimeMinutes'], inplace=True)"
   ]
  },
  {
   "cell_type": "code",
   "execution_count": 16,
   "id": "c02d61f6",
   "metadata": {
    "scrolled": true
   },
   "outputs": [
    {
     "data": {
      "text/plain": [
       "0"
      ]
     },
     "execution_count": 16,
     "metadata": {},
     "output_type": "execute_result"
    }
   ],
   "source": [
    "basics['genres'].isna().sum()"
   ]
  },
  {
   "cell_type": "code",
   "execution_count": 17,
   "id": "84100bcb",
   "metadata": {},
   "outputs": [
    {
     "data": {
      "text/plain": [
       "0"
      ]
     },
     "execution_count": 17,
     "metadata": {},
     "output_type": "execute_result"
    }
   ],
   "source": [
    "basics['runtimeMinutes'].isna().sum()"
   ]
  },
  {
   "cell_type": "markdown",
   "id": "729a3f16",
   "metadata": {},
   "source": [
    "filter for only movies"
   ]
  },
  {
   "cell_type": "code",
   "execution_count": 18,
   "id": "e7f8d9c7",
   "metadata": {
    "scrolled": true
   },
   "outputs": [
    {
     "data": {
      "text/plain": [
       "tvEpisode       1280889\n",
       "short            586075\n",
       "movie            374012\n",
       "video            177683\n",
       "tvMovie           90274\n",
       "tvSeries          88398\n",
       "tvSpecial         17275\n",
       "tvMiniSeries      16606\n",
       "tvShort            8574\n",
       "videoGame           314\n",
       "Name: titleType, dtype: int64"
      ]
     },
     "execution_count": 18,
     "metadata": {},
     "output_type": "execute_result"
    }
   ],
   "source": [
    "basics['titleType'].value_counts()"
   ]
  },
  {
   "cell_type": "code",
   "execution_count": 19,
   "id": "37343b6c",
   "metadata": {
    "scrolled": true
   },
   "outputs": [
    {
     "data": {
      "text/plain": [
       "movie    374012\n",
       "Name: titleType, dtype: int64"
      ]
     },
     "execution_count": 19,
     "metadata": {},
     "output_type": "execute_result"
    }
   ],
   "source": [
    "basics = basics[basics['titleType'] == 'movie']\n",
    "basics['titleType'].value_counts()"
   ]
  },
  {
   "cell_type": "markdown",
   "id": "8df342c6",
   "metadata": {},
   "source": [
    "Filter for only non-fiction movies"
   ]
  },
  {
   "cell_type": "code",
   "execution_count": 20,
   "id": "3b05f90c",
   "metadata": {},
   "outputs": [],
   "source": [
    "is_doc = basics['genres'].str.contains('documentary',case=False)\n",
    "basics = basics[~is_doc]"
   ]
  },
  {
   "cell_type": "code",
   "execution_count": 21,
   "id": "6df877c1",
   "metadata": {},
   "outputs": [],
   "source": [
    "for i in basics['genres']:\n",
    "    if 'Documentary' in i:\n",
    "        print(i)\n",
    "    elif 'documentary' in i:\n",
    "        print(i)"
   ]
  },
  {
   "cell_type": "markdown",
   "id": "168bcbc6",
   "metadata": {},
   "source": [
    "Keep startYear between and including 2000-2021"
   ]
  },
  {
   "cell_type": "code",
   "execution_count": 22,
   "id": "2e27f99d",
   "metadata": {
    "scrolled": true
   },
   "outputs": [
    {
     "name": "stdout",
     "output_type": "stream",
     "text": [
      "<class 'pandas.core.frame.DataFrame'>\n",
      "Int64Index: 284307 entries, 8 to 9463675\n",
      "Data columns (total 9 columns):\n",
      " #   Column          Non-Null Count   Dtype \n",
      "---  ------          --------------   ----- \n",
      " 0   tconst          284307 non-null  object\n",
      " 1   titleType       284307 non-null  object\n",
      " 2   primaryTitle    284307 non-null  object\n",
      " 3   originalTitle   284307 non-null  object\n",
      " 4   isAdult         284307 non-null  object\n",
      " 5   startYear       279889 non-null  object\n",
      " 6   endYear         0 non-null       object\n",
      " 7   runtimeMinutes  284307 non-null  object\n",
      " 8   genres          284307 non-null  object\n",
      "dtypes: object(9)\n",
      "memory usage: 21.7+ MB\n"
     ]
    }
   ],
   "source": [
    "basics.info()"
   ]
  },
  {
   "cell_type": "code",
   "execution_count": 23,
   "id": "075fa43e",
   "metadata": {},
   "outputs": [
    {
     "name": "stdout",
     "output_type": "stream",
     "text": [
      "2000\n"
     ]
    },
    {
     "data": {
      "text/plain": [
       "'2021'"
      ]
     },
     "execution_count": 23,
     "metadata": {},
     "output_type": "execute_result"
    }
   ],
   "source": [
    "# Shrinking the range of values for releases to movies between\n",
    "# 2000 up to 2021\n",
    "basics = basics[basics['startYear'] >= '2000']\n",
    "basics = basics[basics['startYear'] <= '2021']\n",
    "print(min(basics['startYear']))\n",
    "max(basics['startYear'])"
   ]
  },
  {
   "cell_type": "code",
   "execution_count": 24,
   "id": "87ed8054",
   "metadata": {
    "scrolled": false
   },
   "outputs": [
    {
     "name": "stdout",
     "output_type": "stream",
     "text": [
      "<class 'pandas.core.frame.DataFrame'>\n",
      "Int64Index: 137440 entries, 34804 to 9463675\n",
      "Data columns (total 9 columns):\n",
      " #   Column          Non-Null Count   Dtype \n",
      "---  ------          --------------   ----- \n",
      " 0   tconst          137440 non-null  object\n",
      " 1   titleType       137440 non-null  object\n",
      " 2   primaryTitle    137440 non-null  object\n",
      " 3   originalTitle   137440 non-null  object\n",
      " 4   isAdult         137440 non-null  object\n",
      " 5   startYear       137440 non-null  object\n",
      " 6   endYear         0 non-null       object\n",
      " 7   runtimeMinutes  137440 non-null  object\n",
      " 8   genres          137440 non-null  object\n",
      "dtypes: object(9)\n",
      "memory usage: 10.5+ MB\n"
     ]
    }
   ],
   "source": [
    "basics.info()"
   ]
  },
  {
   "cell_type": "code",
   "execution_count": 25,
   "id": "04b539f1",
   "metadata": {},
   "outputs": [
    {
     "name": "stdout",
     "output_type": "stream",
     "text": [
      "<class 'pandas.core.frame.DataFrame'>\n",
      "Int64Index: 137440 entries, 34804 to 9463675\n",
      "Data columns (total 8 columns):\n",
      " #   Column          Non-Null Count   Dtype \n",
      "---  ------          --------------   ----- \n",
      " 0   tconst          137440 non-null  object\n",
      " 1   titleType       137440 non-null  object\n",
      " 2   primaryTitle    137440 non-null  object\n",
      " 3   originalTitle   137440 non-null  object\n",
      " 4   isAdult         137440 non-null  object\n",
      " 5   startYear       137440 non-null  object\n",
      " 6   runtimeMinutes  137440 non-null  object\n",
      " 7   genres          137440 non-null  object\n",
      "dtypes: object(8)\n",
      "memory usage: 9.4+ MB\n"
     ]
    }
   ],
   "source": [
    "# Removing Empty Column\n",
    "basics.drop(columns='endYear', inplace=True)\n",
    "basics.info()"
   ]
  },
  {
   "cell_type": "markdown",
   "id": "3ab7079c",
   "metadata": {},
   "source": [
    "Keeping only US movies"
   ]
  },
  {
   "cell_type": "code",
   "execution_count": 26,
   "id": "91bdb75f",
   "metadata": {},
   "outputs": [],
   "source": [
    "basics = basics[basics['tconst'].isin(akas['titleId'])]"
   ]
  },
  {
   "cell_type": "code",
   "execution_count": 27,
   "id": "42a52bcf",
   "metadata": {
    "scrolled": true
   },
   "outputs": [
    {
     "name": "stdout",
     "output_type": "stream",
     "text": [
      "<class 'pandas.core.frame.DataFrame'>\n",
      "Int64Index: 80112 entries, 34804 to 9463591\n",
      "Data columns (total 8 columns):\n",
      " #   Column          Non-Null Count  Dtype \n",
      "---  ------          --------------  ----- \n",
      " 0   tconst          80112 non-null  object\n",
      " 1   titleType       80112 non-null  object\n",
      " 2   primaryTitle    80112 non-null  object\n",
      " 3   originalTitle   80112 non-null  object\n",
      " 4   isAdult         80112 non-null  object\n",
      " 5   startYear       80112 non-null  object\n",
      " 6   runtimeMinutes  80112 non-null  object\n",
      " 7   genres          80112 non-null  object\n",
      "dtypes: object(8)\n",
      "memory usage: 5.5+ MB\n"
     ]
    }
   ],
   "source": [
    "basics.info()"
   ]
  },
  {
   "cell_type": "code",
   "execution_count": 28,
   "id": "96c228a4",
   "metadata": {},
   "outputs": [],
   "source": [
    "# Converting necessary columns\n",
    "# into numerical columns\n",
    "basics['startYear'] = basics['startYear'].astype(int)\n",
    "basics['runtimeMinutes'] = basics['runtimeMinutes'].astype(float)\n",
    "basics['isAdult'] = basics['isAdult'].astype(int)"
   ]
  },
  {
   "cell_type": "code",
   "execution_count": 29,
   "id": "a76191cc",
   "metadata": {
    "scrolled": true
   },
   "outputs": [
    {
     "name": "stdout",
     "output_type": "stream",
     "text": [
      "<class 'pandas.core.frame.DataFrame'>\n",
      "Int64Index: 80112 entries, 34804 to 9463591\n",
      "Data columns (total 8 columns):\n",
      " #   Column          Non-Null Count  Dtype  \n",
      "---  ------          --------------  -----  \n",
      " 0   tconst          80112 non-null  object \n",
      " 1   titleType       80112 non-null  object \n",
      " 2   primaryTitle    80112 non-null  object \n",
      " 3   originalTitle   80112 non-null  object \n",
      " 4   isAdult         80112 non-null  int32  \n",
      " 5   startYear       80112 non-null  int32  \n",
      " 6   runtimeMinutes  80112 non-null  float64\n",
      " 7   genres          80112 non-null  object \n",
      "dtypes: float64(1), int32(2), object(5)\n",
      "memory usage: 4.9+ MB\n"
     ]
    }
   ],
   "source": [
    "basics.info()"
   ]
  },
  {
   "cell_type": "markdown",
   "id": "db960a27",
   "metadata": {},
   "source": [
    "### ratings"
   ]
  },
  {
   "cell_type": "code",
   "execution_count": 31,
   "id": "1ee3ad1e",
   "metadata": {},
   "outputs": [
    {
     "name": "stdout",
     "output_type": "stream",
     "text": [
      "<class 'pandas.core.frame.DataFrame'>\n",
      "RangeIndex: 1258999 entries, 0 to 1258998\n",
      "Data columns (total 3 columns):\n",
      " #   Column         Non-Null Count    Dtype  \n",
      "---  ------         --------------    -----  \n",
      " 0   tconst         1258999 non-null  object \n",
      " 1   averageRating  1258999 non-null  float64\n",
      " 2   numVotes       1258999 non-null  int64  \n",
      "dtypes: float64(1), int64(1), object(1)\n",
      "memory usage: 28.8+ MB\n"
     ]
    }
   ],
   "source": [
    "ratings.info()"
   ]
  },
  {
   "cell_type": "markdown",
   "id": "853cc52f",
   "metadata": {},
   "source": [
    "Changing \\N to NaNs"
   ]
  },
  {
   "cell_type": "code",
   "execution_count": 32,
   "id": "8bc44645",
   "metadata": {},
   "outputs": [],
   "source": [
    "ratings.replace({'\\\\N': np.nan}, inplace=True)"
   ]
  },
  {
   "cell_type": "markdown",
   "id": "30124e2b",
   "metadata": {},
   "source": [
    "Keep only US movies"
   ]
  },
  {
   "cell_type": "code",
   "execution_count": 33,
   "id": "8fd2be21",
   "metadata": {},
   "outputs": [],
   "source": [
    "ratings = ratings[ratings['tconst'].isin(akas['titleId'])]"
   ]
  },
  {
   "cell_type": "code",
   "execution_count": 34,
   "id": "6c4dad25",
   "metadata": {
    "scrolled": false
   },
   "outputs": [
    {
     "name": "stdout",
     "output_type": "stream",
     "text": [
      "<class 'pandas.core.frame.DataFrame'>\n",
      "Int64Index: 479406 entries, 0 to 1258995\n",
      "Data columns (total 3 columns):\n",
      " #   Column         Non-Null Count   Dtype  \n",
      "---  ------         --------------   -----  \n",
      " 0   tconst         479406 non-null  object \n",
      " 1   averageRating  479406 non-null  float64\n",
      " 2   numVotes       479406 non-null  int64  \n",
      "dtypes: float64(1), int64(1), object(1)\n",
      "memory usage: 14.6+ MB\n"
     ]
    }
   ],
   "source": [
    "ratings.info()"
   ]
  },
  {
   "cell_type": "markdown",
   "id": "21440aa3",
   "metadata": {},
   "source": [
    "## Saving Data"
   ]
  },
  {
   "cell_type": "code",
   "execution_count": null,
   "id": "92738301",
   "metadata": {},
   "outputs": [],
   "source": [
    "import os\n",
    "os.makedirs('movie-data/',exist_ok=True) \n",
    "# Confirm folder created\n",
    "os.listdir(\"movie-data/\")"
   ]
  },
  {
   "cell_type": "code",
   "execution_count": null,
   "id": "9b25ca3b",
   "metadata": {},
   "outputs": [],
   "source": [
    "## Save current dataframe to file.\n",
    "basics.to_csv(\"movie-data/title_basics.csv.gz\",compression='gzip',index=False)"
   ]
  },
  {
   "cell_type": "code",
   "execution_count": null,
   "id": "7e76bdf8",
   "metadata": {},
   "outputs": [],
   "source": [
    "akas.to_csv(\"movie-data/title_akas.csv.gz\",compression='gzip',index=False)"
   ]
  },
  {
   "cell_type": "code",
   "execution_count": null,
   "id": "59c53578",
   "metadata": {},
   "outputs": [],
   "source": [
    "ratings.to_csv(\"movie-data/title_ratings.csv.gz\",compression='gzip',index=False)"
   ]
  },
  {
   "cell_type": "markdown",
   "id": "839a6088",
   "metadata": {},
   "source": [
    "# Data P2"
   ]
  },
  {
   "cell_type": "markdown",
   "id": "b30dcbf0",
   "metadata": {},
   "source": [
    "I need to obtain financial data as well as certification/MPAA ratings."
   ]
  },
  {
   "cell_type": "code",
   "execution_count": 66,
   "id": "6811b874",
   "metadata": {},
   "outputs": [],
   "source": [
    "import json, time, os\n",
    "from tqdm.notebook import tqdm_notebook\n",
    "\n",
    "with open('/Users/aveld/secret/tmdb_api.json') as f:\n",
    "    login = json.load(f)"
   ]
  },
  {
   "cell_type": "code",
   "execution_count": 59,
   "id": "e2610b54",
   "metadata": {},
   "outputs": [],
   "source": [
    "import tmdbsimple as tmdb\n",
    "\n",
    "tmdb.API_KEY = login['api-key']"
   ]
  },
  {
   "cell_type": "code",
   "execution_count": 76,
   "id": "a8ae526f",
   "metadata": {},
   "outputs": [],
   "source": [
    "# Function to get MPAA\n",
    "def movie_rating(id):\n",
    "    \"\"\"Adapted from source = https://github.com/celiao/tmdbsimple\"\"\"\n",
    "    \n",
    "    # Get the movie object for the current id\n",
    "    movie = tmdb.Movies(id)\n",
    "    # save the .info .releases dictionaries\n",
    "    info = movie.info()\n",
    "    releases = movie.releases()\n",
    "    # Loop through countries in releases\n",
    "    for c in releases['countries']:\n",
    "        # if the country abbreviation==US\n",
    "        if c['iso_3166_1' ] =='US':\n",
    "            ## save a \"certification\" key in the info dict with the certification\n",
    "            info['certification'] = c['certification']\n",
    "    return info"
   ]
  },
  {
   "cell_type": "code",
   "execution_count": 77,
   "id": "81536b64",
   "metadata": {},
   "outputs": [],
   "source": [
    "# Function to add new data to a JSON file\n",
    "def write_json(new_data, filename): \n",
    "    \"\"\"Appends a list of records (new_data) to a json file (filename). \n",
    "    Adapted from: https://www.geeksforgeeks.org/append-to-json-file-using-python/\"\"\"  \n",
    "    \n",
    "    with open(filename,'r+') as file:\n",
    "        # First we load existing data into a dict.\n",
    "        file_data = json.load(file)\n",
    "        ## Choose extend or append\n",
    "        if (type(new_data) == list) & (type(file_data) == list):\n",
    "            file_data.extend(new_data)\n",
    "        else:\n",
    "             file_data.append(new_data)\n",
    "        # Sets file's current position at offset.\n",
    "        file.seek(0)\n",
    "        # convert back to json.\n",
    "        json.dump(file_data, file)"
   ]
  },
  {
   "cell_type": "code",
   "execution_count": 78,
   "id": "0b79f36e",
   "metadata": {},
   "outputs": [],
   "source": [
    "def create_json_file(JSON_FILE,  delete_if_exists=False):\n",
    "    \n",
    "    ## Check if JSON_FILE exists\n",
    "    file_exists = os.path.isfile(JSON_FILE)\n",
    "    \n",
    "    ## If it DOES exist:\n",
    "    if file_exists == True:\n",
    "        \n",
    "        ## Check if user wants to delete JSON file\n",
    "        if delete_if_exists==True:\n",
    "            \n",
    "            print(f\"[!] {JSON_FILE} already exists. Deleting previous file...\")\n",
    "            \n",
    "            ## delete file and confirm it no longer exits.\n",
    "            os.remove(JSON_FILE)\n",
    "            \n",
    "            ## Recursive call to function after old file deleted\n",
    "            create_json_file(JSON_FILE,delete_if_exists=False)\n",
    "        else:\n",
    "            print(f\"[i] {JSON_FILE} already exists.\")            \n",
    "            \n",
    "            \n",
    "    ## If it does NOT exist:\n",
    "    else:\n",
    "        \n",
    "        ## INFORM USER AND SAVE EMPTY LIST\n",
    "        print(f\"[i] {JSON_FILE} not found. Saving empty list to new file.\")\n",
    "        \n",
    "        ## CREATE ANY NEEDED FOLDERS\n",
    "        # Get the Folder Name only\n",
    "        folder = os.path.dirname(JSON_FILE)\n",
    "        \n",
    "        ## If JSON_FILE included a folder:\n",
    "        if len(folder)>0:\n",
    "            # create the folder\n",
    "            os.makedirs(folder,exist_ok=True)\n",
    "        ## Save empty list to start the json file\n",
    "        with open(JSON_FILE,'w') as f:\n",
    "            json.dump([{'imdb_id':0}],f)  "
   ]
  },
  {
   "cell_type": "code",
   "execution_count": 63,
   "id": "93097f79",
   "metadata": {},
   "outputs": [],
   "source": [
    "basics = pd.read_csv('movie-data/title_basics.csv.gz')"
   ]
  },
  {
   "cell_type": "code",
   "execution_count": 64,
   "id": "c40a62e5",
   "metadata": {},
   "outputs": [
    {
     "data": {
      "text/html": [
       "<div>\n",
       "<style scoped>\n",
       "    .dataframe tbody tr th:only-of-type {\n",
       "        vertical-align: middle;\n",
       "    }\n",
       "\n",
       "    .dataframe tbody tr th {\n",
       "        vertical-align: top;\n",
       "    }\n",
       "\n",
       "    .dataframe thead th {\n",
       "        text-align: right;\n",
       "    }\n",
       "</style>\n",
       "<table border=\"1\" class=\"dataframe\">\n",
       "  <thead>\n",
       "    <tr style=\"text-align: right;\">\n",
       "      <th></th>\n",
       "      <th>tconst</th>\n",
       "      <th>titleType</th>\n",
       "      <th>primaryTitle</th>\n",
       "      <th>originalTitle</th>\n",
       "      <th>isAdult</th>\n",
       "      <th>startYear</th>\n",
       "      <th>runtimeMinutes</th>\n",
       "      <th>genres</th>\n",
       "    </tr>\n",
       "  </thead>\n",
       "  <tbody>\n",
       "    <tr>\n",
       "      <th>0</th>\n",
       "      <td>tt0035423</td>\n",
       "      <td>movie</td>\n",
       "      <td>Kate &amp; Leopold</td>\n",
       "      <td>Kate &amp; Leopold</td>\n",
       "      <td>0</td>\n",
       "      <td>2001</td>\n",
       "      <td>118.0</td>\n",
       "      <td>Comedy,Fantasy,Romance</td>\n",
       "    </tr>\n",
       "    <tr>\n",
       "      <th>1</th>\n",
       "      <td>tt0062336</td>\n",
       "      <td>movie</td>\n",
       "      <td>The Tango of the Widower and Its Distorting Mi...</td>\n",
       "      <td>El Tango del Viudo y Su Espejo Deformante</td>\n",
       "      <td>0</td>\n",
       "      <td>2020</td>\n",
       "      <td>70.0</td>\n",
       "      <td>Drama</td>\n",
       "    </tr>\n",
       "    <tr>\n",
       "      <th>2</th>\n",
       "      <td>tt0069049</td>\n",
       "      <td>movie</td>\n",
       "      <td>The Other Side of the Wind</td>\n",
       "      <td>The Other Side of the Wind</td>\n",
       "      <td>0</td>\n",
       "      <td>2018</td>\n",
       "      <td>122.0</td>\n",
       "      <td>Drama</td>\n",
       "    </tr>\n",
       "    <tr>\n",
       "      <th>3</th>\n",
       "      <td>tt0088751</td>\n",
       "      <td>movie</td>\n",
       "      <td>The Naked Monster</td>\n",
       "      <td>The Naked Monster</td>\n",
       "      <td>0</td>\n",
       "      <td>2005</td>\n",
       "      <td>100.0</td>\n",
       "      <td>Comedy,Horror,Sci-Fi</td>\n",
       "    </tr>\n",
       "    <tr>\n",
       "      <th>4</th>\n",
       "      <td>tt0096056</td>\n",
       "      <td>movie</td>\n",
       "      <td>Crime and Punishment</td>\n",
       "      <td>Crime and Punishment</td>\n",
       "      <td>0</td>\n",
       "      <td>2002</td>\n",
       "      <td>126.0</td>\n",
       "      <td>Drama</td>\n",
       "    </tr>\n",
       "  </tbody>\n",
       "</table>\n",
       "</div>"
      ],
      "text/plain": [
       "      tconst titleType                                       primaryTitle  \\\n",
       "0  tt0035423     movie                                     Kate & Leopold   \n",
       "1  tt0062336     movie  The Tango of the Widower and Its Distorting Mi...   \n",
       "2  tt0069049     movie                         The Other Side of the Wind   \n",
       "3  tt0088751     movie                                  The Naked Monster   \n",
       "4  tt0096056     movie                               Crime and Punishment   \n",
       "\n",
       "                               originalTitle  isAdult  startYear  \\\n",
       "0                             Kate & Leopold        0       2001   \n",
       "1  El Tango del Viudo y Su Espejo Deformante        0       2020   \n",
       "2                 The Other Side of the Wind        0       2018   \n",
       "3                          The Naked Monster        0       2005   \n",
       "4                       Crime and Punishment        0       2002   \n",
       "\n",
       "   runtimeMinutes                  genres  \n",
       "0           118.0  Comedy,Fantasy,Romance  \n",
       "1            70.0                   Drama  \n",
       "2           122.0                   Drama  \n",
       "3           100.0    Comedy,Horror,Sci-Fi  \n",
       "4           126.0                   Drama  "
      ]
     },
     "execution_count": 64,
     "metadata": {},
     "output_type": "execute_result"
    }
   ],
   "source": [
    "basics.head()"
   ]
  },
  {
   "cell_type": "code",
   "execution_count": 65,
   "id": "71b025e0",
   "metadata": {},
   "outputs": [],
   "source": [
    "# Lists\n",
    "YEARS = [2000, 2001]\n",
    "errors = []"
   ]
  },
  {
   "cell_type": "code",
   "execution_count": 71,
   "id": "19623caa",
   "metadata": {},
   "outputs": [],
   "source": [
    "JSON_FILE = f\"movie-data/tmdb_api_results_{i}.json\""
   ]
  },
  {
   "cell_type": "code",
   "execution_count": 83,
   "id": "a510df6a",
   "metadata": {},
   "outputs": [
    {
     "data": {
      "text/plain": [
       "{'adult': False,\n",
       " 'backdrop_path': '/9BBTo63ANSmhC4e6r62OJFuK2GL.jpg',\n",
       " 'belongs_to_collection': {'id': 86311,\n",
       "  'name': 'The Avengers Collection',\n",
       "  'poster_path': '/yFSIUVTCvgYrpalUktulvk3Gi5Y.jpg',\n",
       "  'backdrop_path': '/zuW6fOiusv4X9nnW3paHGfXcSll.jpg'},\n",
       " 'budget': 220000000,\n",
       " 'genres': [{'id': 878, 'name': 'Science Fiction'},\n",
       "  {'id': 28, 'name': 'Action'},\n",
       "  {'id': 12, 'name': 'Adventure'}],\n",
       " 'homepage': 'https://www.marvel.com/movies/the-avengers',\n",
       " 'id': 24428,\n",
       " 'imdb_id': 'tt0848228',\n",
       " 'original_language': 'en',\n",
       " 'original_title': 'The Avengers',\n",
       " 'overview': 'When an unexpected enemy emerges and threatens global safety and security, Nick Fury, director of the international peacekeeping agency known as S.H.I.E.L.D., finds himself in need of a team to pull the world back from the brink of disaster. Spanning the globe, a daring recruitment effort begins!',\n",
       " 'popularity': 161.95,\n",
       " 'poster_path': '/tYqp6vEOo8YlVWrYQvt9nyOhsA2.jpg',\n",
       " 'production_companies': [{'id': 420,\n",
       "   'logo_path': '/hUzeosd33nzE5MCNsZxCGEKTXaQ.png',\n",
       "   'name': 'Marvel Studios',\n",
       "   'origin_country': 'US'}],\n",
       " 'production_countries': [{'iso_3166_1': 'US',\n",
       "   'name': 'United States of America'}],\n",
       " 'release_date': '2012-04-25',\n",
       " 'revenue': 1518815515,\n",
       " 'runtime': 143,\n",
       " 'spoken_languages': [{'english_name': 'English',\n",
       "   'iso_639_1': 'en',\n",
       "   'name': 'English'},\n",
       "  {'english_name': 'Hindi', 'iso_639_1': 'hi', 'name': 'हिन्दी'},\n",
       "  {'english_name': 'Russian', 'iso_639_1': 'ru', 'name': 'Pусский'}],\n",
       " 'status': 'Released',\n",
       " 'tagline': 'Some assembly required.',\n",
       " 'title': 'The Avengers',\n",
       " 'video': False,\n",
       " 'vote_average': 7.707,\n",
       " 'vote_count': 27911,\n",
       " 'certification': 'PG-13'}"
      ]
     },
     "execution_count": 83,
     "metadata": {},
     "output_type": "execute_result"
    }
   ],
   "source": [
    "# Testing functions 1\n",
    "movie_rating('tt0848228')"
   ]
  },
  {
   "cell_type": "code",
   "execution_count": 84,
   "id": "b4ea0ef2",
   "metadata": {},
   "outputs": [
    {
     "data": {
      "text/plain": [
       "{'adult': False,\n",
       " 'backdrop_path': '/qom1SZSENdmHFNZBXbtJAU0WTlC.jpg',\n",
       " 'belongs_to_collection': None,\n",
       " 'budget': 29000000,\n",
       " 'genres': [{'id': 10749, 'name': 'Romance'}, {'id': 18, 'name': 'Drama'}],\n",
       " 'homepage': 'http://www.newline.com/properties/notebookthe.html',\n",
       " 'id': 11036,\n",
       " 'imdb_id': 'tt0332280',\n",
       " 'original_language': 'en',\n",
       " 'original_title': 'The Notebook',\n",
       " 'overview': \"An epic love story centered around an older man who reads aloud to a woman with Alzheimer's. From a faded notebook, the old man's words bring to life the story about a couple who is separated by World War II, and is then passionately reunited, seven years later, after they have taken different paths.\",\n",
       " 'popularity': 59.79,\n",
       " 'poster_path': '/rNzQyW4f8B8cQeg7Dgj3n6eT5k9.jpg',\n",
       " 'production_companies': [{'id': 12,\n",
       "   'logo_path': '/iaYpEp3LQmb8AfAtmTvpqd4149c.png',\n",
       "   'name': 'New Line Cinema',\n",
       "   'origin_country': 'US'},\n",
       "  {'id': 1565, 'logo_path': None, 'name': 'Avery Pix', 'origin_country': 'US'},\n",
       "  {'id': 2605,\n",
       "   'logo_path': None,\n",
       "   'name': 'Gran Via Productions',\n",
       "   'origin_country': 'US'}],\n",
       " 'production_countries': [{'iso_3166_1': 'US',\n",
       "   'name': 'United States of America'}],\n",
       " 'release_date': '2004-06-25',\n",
       " 'revenue': 115603229,\n",
       " 'runtime': 123,\n",
       " 'spoken_languages': [{'english_name': 'English',\n",
       "   'iso_639_1': 'en',\n",
       "   'name': 'English'}],\n",
       " 'status': 'Released',\n",
       " 'tagline': 'Behind every great love is a great story.',\n",
       " 'title': 'The Notebook',\n",
       " 'video': False,\n",
       " 'vote_average': 7.881,\n",
       " 'vote_count': 9982,\n",
       " 'certification': 'PG-13'}"
      ]
     },
     "execution_count": 84,
     "metadata": {},
     "output_type": "execute_result"
    }
   ],
   "source": [
    "# Testing Function 2\n",
    "movie_rating('tt0332280')"
   ]
  },
  {
   "cell_type": "code",
   "execution_count": 82,
   "id": "328f1402",
   "metadata": {},
   "outputs": [
    {
     "data": {
      "application/vnd.jupyter.widget-view+json": {
       "model_id": "7d3ea1f5c3f645d494489b40ee95851b",
       "version_major": 2,
       "version_minor": 0
      },
      "text/plain": [
       "YEARS:   0%|          | 0/2 [00:00<?, ?it/s]"
      ]
     },
     "metadata": {},
     "output_type": "display_data"
    },
    {
     "name": "stdout",
     "output_type": "stream",
     "text": [
      "[!] movie-data/tmdb_api_results_Drama.json already exists. Deleting previous file...\n",
      "[i] movie-data/tmdb_api_results_Drama.json not found. Saving empty list to new file.\n"
     ]
    },
    {
     "data": {
      "application/vnd.jupyter.widget-view+json": {
       "model_id": "add6b9e0afb042cf8e901cd2245fe4b4",
       "version_major": 2,
       "version_minor": 0
      },
      "text/plain": [
       "Movies from 2000:   0%|          | 0/1420 [00:00<?, ?it/s]"
      ]
     },
     "metadata": {},
     "output_type": "display_data"
    },
    {
     "name": "stdout",
     "output_type": "stream",
     "text": [
      "[!] movie-data/tmdb_api_results_Drama.json already exists. Deleting previous file...\n",
      "[i] movie-data/tmdb_api_results_Drama.json not found. Saving empty list to new file.\n"
     ]
    },
    {
     "data": {
      "application/vnd.jupyter.widget-view+json": {
       "model_id": "7110b8f925af4c68bfa54e171952cc59",
       "version_major": 2,
       "version_minor": 0
      },
      "text/plain": [
       "Movies from 2001:   0%|          | 0/1532 [00:00<?, ?it/s]"
      ]
     },
     "metadata": {},
     "output_type": "display_data"
    },
    {
     "name": "stdout",
     "output_type": "stream",
     "text": [
      "- Total errors: 4818\n"
     ]
    }
   ],
   "source": [
    "# Nested Loop for movies starting in 2000 and 2001\n",
    "for i in tqdm_notebook(YEARS, desc='YEARS', position=0):\n",
    "    create_json_file(JSON_FILE, delete_if_exists=True)\n",
    "    \n",
    "    #Saving new year as the current df\n",
    "    df = basics.loc[basics['startYear']==i].copy()\n",
    "    # saving movie ids to list\n",
    "    movie_ids = df['tconst'].copy()\n",
    "    \n",
    "    # Keeping track of previous loops\n",
    "    previous_df = pd.read_json(JSON_FILE)\n",
    "    \n",
    "    # Making sure not to repeat movie IDs\n",
    "    movie_ids_to_get = movie_ids[~movie_ids.isin(previous_df['imdb_id'])]\n",
    "    \n",
    "    for movie_id in tqdm_notebook(movie_ids_to_get,\n",
    "                                  desc=f'Movies from {i}',\n",
    "                                  position=1,\n",
    "                                  leave=True):\n",
    "        try:\n",
    "            # Retrieve data for the movie id\n",
    "            temp = movie_rating(movie_id)  \n",
    "            # Append/extend results to existing file\n",
    "            write_json(temp,JSON_FILE)\n",
    "            # Short 20 ms sleep\n",
    "            time.sleep(0.02)\n",
    "            \n",
    "        except Exception as e:\n",
    "            errors.append([movie_id, e])\n",
    "    \n",
    "    final_year_df = pd.read_json(JSON_FILE)\n",
    "    final_year_df.to_csv(f\"movie-data/final_tmdb_data_{i}.csv.gz\",\n",
    "                         compression=\"gzip\", index=False)\n",
    "\n",
    "\n",
    "print(f\"- Total errors: {len(errors)}\")"
   ]
  },
  {
   "cell_type": "markdown",
   "id": "703dec6d",
   "metadata": {},
   "source": [
    "## Exploratory Data Analysis"
   ]
  },
  {
   "cell_type": "code",
   "execution_count": 90,
   "id": "e2471527",
   "metadata": {},
   "outputs": [],
   "source": [
    "df_2000 = pd.read_csv('movie-data/final_tmdb_data_2000.csv.gz')\n",
    "df_2001 = pd.read_csv('movie-data/final_tmdb_data_2001.csv.gz')"
   ]
  },
  {
   "cell_type": "code",
   "execution_count": 93,
   "id": "95f068e7",
   "metadata": {
    "scrolled": true
   },
   "outputs": [
    {
     "name": "stdout",
     "output_type": "stream",
     "text": [
      "<class 'pandas.core.frame.DataFrame'>\n",
      "Int64Index: 2508 entries, 0 to 1292\n",
      "Data columns (total 26 columns):\n",
      " #   Column                 Non-Null Count  Dtype  \n",
      "---  ------                 --------------  -----  \n",
      " 0   imdb_id                2508 non-null   object \n",
      " 1   adult                  2506 non-null   float64\n",
      " 2   backdrop_path          1324 non-null   object \n",
      " 3   belongs_to_collection  197 non-null    object \n",
      " 4   budget                 2506 non-null   float64\n",
      " 5   genres                 2506 non-null   object \n",
      " 6   homepage               173 non-null    object \n",
      " 7   id                     2506 non-null   float64\n",
      " 8   original_language      2506 non-null   object \n",
      " 9   original_title         2506 non-null   object \n",
      " 10  overview               2454 non-null   object \n",
      " 11  popularity             2506 non-null   float64\n",
      " 12  poster_path            2231 non-null   object \n",
      " 13  production_companies   2506 non-null   object \n",
      " 14  production_countries   2506 non-null   object \n",
      " 15  release_date           2491 non-null   object \n",
      " 16  revenue                2506 non-null   float64\n",
      " 17  runtime                2506 non-null   float64\n",
      " 18  spoken_languages       2506 non-null   object \n",
      " 19  status                 2506 non-null   object \n",
      " 20  tagline                1067 non-null   object \n",
      " 21  title                  2506 non-null   object \n",
      " 22  video                  2506 non-null   float64\n",
      " 23  vote_average           2506 non-null   float64\n",
      " 24  vote_count             2506 non-null   float64\n",
      " 25  certification          797 non-null    object \n",
      "dtypes: float64(9), object(17)\n",
      "memory usage: 529.0+ KB\n"
     ]
    }
   ],
   "source": [
    "df_years = pd.concat([df_2000, df_2001])\n",
    "df_years.info()"
   ]
  },
  {
   "cell_type": "markdown",
   "id": "87c7c63b",
   "metadata": {},
   "source": [
    "Starting with 2508 total entries"
   ]
  },
  {
   "cell_type": "code",
   "execution_count": 109,
   "id": "d4279049",
   "metadata": {},
   "outputs": [],
   "source": [
    "# Dropping rows with 0 in budget and revenue\n",
    "# f for filtered\n",
    "df_years_f = df_years[(df_years['budget'] > 0) | (df_years['revenue'] > 0)]"
   ]
  },
  {
   "cell_type": "code",
   "execution_count": 110,
   "id": "bd73702c",
   "metadata": {},
   "outputs": [
    {
     "name": "stdout",
     "output_type": "stream",
     "text": [
      "<class 'pandas.core.frame.DataFrame'>\n",
      "Int64Index: 627 entries, 1 to 1272\n",
      "Data columns (total 26 columns):\n",
      " #   Column                 Non-Null Count  Dtype  \n",
      "---  ------                 --------------  -----  \n",
      " 0   imdb_id                627 non-null    object \n",
      " 1   adult                  627 non-null    float64\n",
      " 2   backdrop_path          528 non-null    object \n",
      " 3   belongs_to_collection  103 non-null    object \n",
      " 4   budget                 627 non-null    float64\n",
      " 5   genres                 627 non-null    object \n",
      " 6   homepage               77 non-null     object \n",
      " 7   id                     627 non-null    float64\n",
      " 8   original_language      627 non-null    object \n",
      " 9   original_title         627 non-null    object \n",
      " 10  overview               624 non-null    object \n",
      " 11  popularity             627 non-null    float64\n",
      " 12  poster_path            605 non-null    object \n",
      " 13  production_companies   627 non-null    object \n",
      " 14  production_countries   627 non-null    object \n",
      " 15  release_date           627 non-null    object \n",
      " 16  revenue                627 non-null    float64\n",
      " 17  runtime                627 non-null    float64\n",
      " 18  spoken_languages       627 non-null    object \n",
      " 19  status                 627 non-null    object \n",
      " 20  tagline                485 non-null    object \n",
      " 21  title                  627 non-null    object \n",
      " 22  video                  627 non-null    float64\n",
      " 23  vote_average           627 non-null    float64\n",
      " 24  vote_count             627 non-null    float64\n",
      " 25  certification          425 non-null    object \n",
      "dtypes: float64(9), object(17)\n",
      "memory usage: 132.3+ KB\n"
     ]
    }
   ],
   "source": [
    "df_years_f.info()"
   ]
  },
  {
   "cell_type": "markdown",
   "id": "1aa8ea33",
   "metadata": {},
   "source": [
    "Q1. How many movies had at least some valid financial information (values > 0 for budget OR revenue)?\n",
    "\n",
    "> Only 627 entries left after filtering movies with revenue OR budget data."
   ]
  },
  {
   "cell_type": "code",
   "execution_count": 111,
   "id": "8ef8b64e",
   "metadata": {},
   "outputs": [
    {
     "data": {
      "text/plain": [
       "R        229\n",
       "PG-13    131\n",
       "PG        35\n",
       "NR        16\n",
       "G         14\n",
       "Name: certification, dtype: int64"
      ]
     },
     "execution_count": 111,
     "metadata": {},
     "output_type": "execute_result"
    }
   ],
   "source": [
    "df_years_f['certification'].value_counts()"
   ]
  },
  {
   "cell_type": "markdown",
   "id": "9f930851",
   "metadata": {},
   "source": [
    "Q2. How many movies are there in each of the certification categories (G/PG/PG-13/R)?\n",
    "\n",
    "> - R = 229\n",
    "> - PG-13 = 131\n",
    "> - PG = 35\n",
    "> - NR = 16\n",
    "> - G = 14"
   ]
  },
  {
   "cell_type": "markdown",
   "id": "cc85aed8",
   "metadata": {},
   "source": [
    "lambda function modified from:\n",
    "https://re-thought.com/how-to-suppress-scientific-notation-in-pandas/"
   ]
  },
  {
   "cell_type": "code",
   "execution_count": 129,
   "id": "f3a7fabc",
   "metadata": {},
   "outputs": [
    {
     "data": {
      "text/plain": [
       "certification\n",
       "G        123746274.93\n",
       "NR         9443087.19\n",
       "PG       112357320.40\n",
       "PG-13     99262990.70\n",
       "R         33211194.39\n",
       "Name: revenue, dtype: object"
      ]
     },
     "execution_count": 129,
     "metadata": {},
     "output_type": "execute_result"
    }
   ],
   "source": [
    "df_years_f.groupby('certification')['revenue'].mean().apply(lambda x: '%.2f' % x)"
   ]
  },
  {
   "cell_type": "markdown",
   "id": "39881abf",
   "metadata": {},
   "source": [
    "Q3. What is the average revenue per certification category?\n",
    ">- G = $ 123,746,274.93 \n",
    "\n",
    ">- NR = $ 9,443,087.19\n",
    "\n",
    ">- PG = $ 112,357,320.40\n",
    "\n",
    ">- PG-13 = $ 99,262,990.70\n",
    "\n",
    ">- R = $ 33,211,194.39\n"
   ]
  },
  {
   "cell_type": "code",
   "execution_count": 130,
   "id": "fa44214c",
   "metadata": {},
   "outputs": [
    {
     "data": {
      "text/plain": [
       "certification\n",
       "G        40857142.86\n",
       "NR        6693755.88\n",
       "PG       44978571.69\n",
       "PG-13    43153877.31\n",
       "R        19746744.32\n",
       "Name: budget, dtype: object"
      ]
     },
     "execution_count": 130,
     "metadata": {},
     "output_type": "execute_result"
    }
   ],
   "source": [
    "df_years_f.groupby('certification')['budget'].mean().apply(lambda x: '%.2f' % x)"
   ]
  },
  {
   "cell_type": "markdown",
   "id": "3cf05e15",
   "metadata": {},
   "source": [
    "Q4. What is the average budget per certification category?\n",
    ">- G = $ 40,857,142.86\n",
    "\n",
    ">- NR = $ 6,693,722.88\n",
    "\n",
    ">- PG = $ 44,978,571.69\n",
    "\n",
    ">- PG-13 = $ 43,153,877.31\n",
    "\n",
    ">- R = $ 19,746,744.32"
   ]
  },
  {
   "cell_type": "code",
   "execution_count": 131,
   "id": "e73793fb",
   "metadata": {},
   "outputs": [],
   "source": [
    "# Saving Entire Combined Dataframe\n",
    "df_years.to_csv('movie-data/tmdb_results_combined.csv.gz', compression='gzip', index=False)"
   ]
  },
  {
   "cell_type": "code",
   "execution_count": null,
   "id": "4b045eda",
   "metadata": {},
   "outputs": [],
   "source": []
  }
 ],
 "metadata": {
  "kernelspec": {
   "display_name": "Python (dojo-env)",
   "language": "python",
   "name": "dojo-env"
  },
  "language_info": {
   "codemirror_mode": {
    "name": "ipython",
    "version": 3
   },
   "file_extension": ".py",
   "mimetype": "text/x-python",
   "name": "python",
   "nbconvert_exporter": "python",
   "pygments_lexer": "ipython3",
   "version": "3.9.15"
  },
  "toc": {
   "base_numbering": 1,
   "nav_menu": {},
   "number_sections": false,
   "sideBar": true,
   "skip_h1_title": false,
   "title_cell": "Table of Contents",
   "title_sidebar": "Contents",
   "toc_cell": false,
   "toc_position": {
    "height": "calc(100% - 180px)",
    "left": "10px",
    "top": "150px",
    "width": "413.975px"
   },
   "toc_section_display": true,
   "toc_window_display": true
  }
 },
 "nbformat": 4,
 "nbformat_minor": 5
}
