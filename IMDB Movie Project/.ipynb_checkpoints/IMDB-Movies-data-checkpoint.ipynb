{
 "cells": [
  {
   "cell_type": "markdown",
   "id": "417ebfd2",
   "metadata": {},
   "source": [
    "# Data"
   ]
  },
  {
   "cell_type": "code",
   "execution_count": 1,
   "id": "7d3a02e9",
   "metadata": {},
   "outputs": [],
   "source": [
    "import pandas as pd\n",
    "import numpy as np"
   ]
  },
  {
   "cell_type": "code",
   "execution_count": 2,
   "id": "d6a4cad9",
   "metadata": {},
   "outputs": [],
   "source": [
    "basics = pd.read_csv(\"https://datasets.imdbws.com/title.basics.tsv.gz\", sep='\\t',\n",
    "                    low_memory=False)"
   ]
  },
  {
   "cell_type": "code",
   "execution_count": 3,
   "id": "3e9abe5e",
   "metadata": {},
   "outputs": [],
   "source": [
    "ratings = pd.read_csv(\"https://datasets.imdbws.com/title.ratings.tsv.gz\",\n",
    "                      sep='\\t', low_memory=False)"
   ]
  },
  {
   "cell_type": "code",
   "execution_count": 4,
   "id": "89b3c789",
   "metadata": {},
   "outputs": [],
   "source": [
    "akas = pd.read_csv(\"https://datasets.imdbws.com/title.akas.tsv.gz\", sep='\\t',\n",
    "                    low_memory=False)"
   ]
  },
  {
   "cell_type": "markdown",
   "id": "7e306d23",
   "metadata": {},
   "source": [
    "Some columns need to be converted to numerical"
   ]
  },
  {
   "cell_type": "markdown",
   "id": "1e22e843",
   "metadata": {},
   "source": [
    "## Cleaning Data"
   ]
  },
  {
   "cell_type": "markdown",
   "id": "ef4b283f",
   "metadata": {},
   "source": [
    "### akas"
   ]
  },
  {
   "cell_type": "code",
   "execution_count": 5,
   "id": "8e134b6e",
   "metadata": {},
   "outputs": [
    {
     "name": "stdout",
     "output_type": "stream",
     "text": [
      "<class 'pandas.core.frame.DataFrame'>\n",
      "RangeIndex: 34227298 entries, 0 to 34227297\n",
      "Data columns (total 8 columns):\n",
      " #   Column           Dtype \n",
      "---  ------           ----- \n",
      " 0   titleId          object\n",
      " 1   ordering         int64 \n",
      " 2   title            object\n",
      " 3   region           object\n",
      " 4   language         object\n",
      " 5   types            object\n",
      " 6   attributes       object\n",
      " 7   isOriginalTitle  object\n",
      "dtypes: int64(1), object(7)\n",
      "memory usage: 2.0+ GB\n"
     ]
    }
   ],
   "source": [
    "akas.info()"
   ]
  },
  {
   "cell_type": "markdown",
   "id": "1ef62b8a",
   "metadata": {},
   "source": [
    "Changing \\N to NaNs"
   ]
  },
  {
   "cell_type": "code",
   "execution_count": 6,
   "id": "be83f45b",
   "metadata": {},
   "outputs": [],
   "source": [
    "akas.replace({'\\\\N': np.nan}, inplace=True)"
   ]
  },
  {
   "cell_type": "markdown",
   "id": "f4aa6d20",
   "metadata": {},
   "source": [
    "Keep only US movies"
   ]
  },
  {
   "cell_type": "code",
   "execution_count": 7,
   "id": "d6fa002b",
   "metadata": {},
   "outputs": [
    {
     "data": {
      "text/plain": [
       "DE    4083875\n",
       "JP    4082471\n",
       "FR    4081924\n",
       "IN    4017213\n",
       "ES    4004973\n",
       "       ...   \n",
       "CC          1\n",
       "TV          1\n",
       "NU          1\n",
       "PW          1\n",
       "NR          1\n",
       "Name: region, Length: 247, dtype: int64"
      ]
     },
     "execution_count": 7,
     "metadata": {},
     "output_type": "execute_result"
    }
   ],
   "source": [
    "akas['region'].value_counts()"
   ]
  },
  {
   "cell_type": "code",
   "execution_count": 8,
   "id": "abfaec1a",
   "metadata": {},
   "outputs": [],
   "source": [
    "akas = akas[akas['region'] == 'US']"
   ]
  },
  {
   "cell_type": "code",
   "execution_count": 9,
   "id": "93160800",
   "metadata": {},
   "outputs": [
    {
     "data": {
      "text/plain": [
       "US    1394680\n",
       "Name: region, dtype: int64"
      ]
     },
     "execution_count": 9,
     "metadata": {},
     "output_type": "execute_result"
    }
   ],
   "source": [
    "akas['region'].value_counts()"
   ]
  },
  {
   "cell_type": "code",
   "execution_count": 10,
   "id": "c3160a31",
   "metadata": {},
   "outputs": [
    {
     "name": "stdout",
     "output_type": "stream",
     "text": [
      "<class 'pandas.core.frame.DataFrame'>\n",
      "Int64Index: 1394680 entries, 5 to 34227042\n",
      "Data columns (total 8 columns):\n",
      " #   Column           Non-Null Count    Dtype \n",
      "---  ------           --------------    ----- \n",
      " 0   titleId          1394680 non-null  object\n",
      " 1   ordering         1394680 non-null  int64 \n",
      " 2   title            1394680 non-null  object\n",
      " 3   region           1394680 non-null  object\n",
      " 4   language         3744 non-null     object\n",
      " 5   types            967716 non-null   object\n",
      " 6   attributes       45543 non-null    object\n",
      " 7   isOriginalTitle  1393335 non-null  object\n",
      "dtypes: int64(1), object(7)\n",
      "memory usage: 95.8+ MB\n"
     ]
    }
   ],
   "source": [
    "akas.info()"
   ]
  },
  {
   "cell_type": "markdown",
   "id": "5f203d6d",
   "metadata": {},
   "source": [
    "### basics"
   ]
  },
  {
   "cell_type": "code",
   "execution_count": 11,
   "id": "1bf18e12",
   "metadata": {
    "scrolled": true
   },
   "outputs": [
    {
     "name": "stdout",
     "output_type": "stream",
     "text": [
      "<class 'pandas.core.frame.DataFrame'>\n",
      "RangeIndex: 9457502 entries, 0 to 9457501\n",
      "Data columns (total 9 columns):\n",
      " #   Column          Dtype \n",
      "---  ------          ----- \n",
      " 0   tconst          object\n",
      " 1   titleType       object\n",
      " 2   primaryTitle    object\n",
      " 3   originalTitle   object\n",
      " 4   isAdult         object\n",
      " 5   startYear       object\n",
      " 6   endYear         object\n",
      " 7   runtimeMinutes  object\n",
      " 8   genres          object\n",
      "dtypes: object(9)\n",
      "memory usage: 649.4+ MB\n"
     ]
    },
    {
     "data": {
      "text/html": [
       "<div>\n",
       "<style scoped>\n",
       "    .dataframe tbody tr th:only-of-type {\n",
       "        vertical-align: middle;\n",
       "    }\n",
       "\n",
       "    .dataframe tbody tr th {\n",
       "        vertical-align: top;\n",
       "    }\n",
       "\n",
       "    .dataframe thead th {\n",
       "        text-align: right;\n",
       "    }\n",
       "</style>\n",
       "<table border=\"1\" class=\"dataframe\">\n",
       "  <thead>\n",
       "    <tr style=\"text-align: right;\">\n",
       "      <th></th>\n",
       "      <th>tconst</th>\n",
       "      <th>titleType</th>\n",
       "      <th>primaryTitle</th>\n",
       "      <th>originalTitle</th>\n",
       "      <th>isAdult</th>\n",
       "      <th>startYear</th>\n",
       "      <th>endYear</th>\n",
       "      <th>runtimeMinutes</th>\n",
       "      <th>genres</th>\n",
       "    </tr>\n",
       "  </thead>\n",
       "  <tbody>\n",
       "    <tr>\n",
       "      <th>0</th>\n",
       "      <td>tt0000001</td>\n",
       "      <td>short</td>\n",
       "      <td>Carmencita</td>\n",
       "      <td>Carmencita</td>\n",
       "      <td>0</td>\n",
       "      <td>1894</td>\n",
       "      <td>\\N</td>\n",
       "      <td>1</td>\n",
       "      <td>Documentary,Short</td>\n",
       "    </tr>\n",
       "    <tr>\n",
       "      <th>1</th>\n",
       "      <td>tt0000002</td>\n",
       "      <td>short</td>\n",
       "      <td>Le clown et ses chiens</td>\n",
       "      <td>Le clown et ses chiens</td>\n",
       "      <td>0</td>\n",
       "      <td>1892</td>\n",
       "      <td>\\N</td>\n",
       "      <td>5</td>\n",
       "      <td>Animation,Short</td>\n",
       "    </tr>\n",
       "    <tr>\n",
       "      <th>2</th>\n",
       "      <td>tt0000003</td>\n",
       "      <td>short</td>\n",
       "      <td>Pauvre Pierrot</td>\n",
       "      <td>Pauvre Pierrot</td>\n",
       "      <td>0</td>\n",
       "      <td>1892</td>\n",
       "      <td>\\N</td>\n",
       "      <td>4</td>\n",
       "      <td>Animation,Comedy,Romance</td>\n",
       "    </tr>\n",
       "    <tr>\n",
       "      <th>3</th>\n",
       "      <td>tt0000004</td>\n",
       "      <td>short</td>\n",
       "      <td>Un bon bock</td>\n",
       "      <td>Un bon bock</td>\n",
       "      <td>0</td>\n",
       "      <td>1892</td>\n",
       "      <td>\\N</td>\n",
       "      <td>12</td>\n",
       "      <td>Animation,Short</td>\n",
       "    </tr>\n",
       "    <tr>\n",
       "      <th>4</th>\n",
       "      <td>tt0000005</td>\n",
       "      <td>short</td>\n",
       "      <td>Blacksmith Scene</td>\n",
       "      <td>Blacksmith Scene</td>\n",
       "      <td>0</td>\n",
       "      <td>1893</td>\n",
       "      <td>\\N</td>\n",
       "      <td>1</td>\n",
       "      <td>Comedy,Short</td>\n",
       "    </tr>\n",
       "  </tbody>\n",
       "</table>\n",
       "</div>"
      ],
      "text/plain": [
       "      tconst titleType            primaryTitle           originalTitle  \\\n",
       "0  tt0000001     short              Carmencita              Carmencita   \n",
       "1  tt0000002     short  Le clown et ses chiens  Le clown et ses chiens   \n",
       "2  tt0000003     short          Pauvre Pierrot          Pauvre Pierrot   \n",
       "3  tt0000004     short             Un bon bock             Un bon bock   \n",
       "4  tt0000005     short        Blacksmith Scene        Blacksmith Scene   \n",
       "\n",
       "  isAdult startYear endYear runtimeMinutes                    genres  \n",
       "0       0      1894      \\N              1         Documentary,Short  \n",
       "1       0      1892      \\N              5           Animation,Short  \n",
       "2       0      1892      \\N              4  Animation,Comedy,Romance  \n",
       "3       0      1892      \\N             12           Animation,Short  \n",
       "4       0      1893      \\N              1              Comedy,Short  "
      ]
     },
     "execution_count": 11,
     "metadata": {},
     "output_type": "execute_result"
    }
   ],
   "source": [
    "basics.info()\n",
    "basics.head()"
   ]
  },
  {
   "cell_type": "markdown",
   "id": "8a85197b",
   "metadata": {},
   "source": [
    "replace \\N with np.nan"
   ]
  },
  {
   "cell_type": "code",
   "execution_count": 12,
   "id": "92ca9297",
   "metadata": {},
   "outputs": [],
   "source": [
    "basics.replace({'\\\\N': np.nan}, inplace=True)"
   ]
  },
  {
   "cell_type": "markdown",
   "id": "5c0fde0b",
   "metadata": {},
   "source": [
    "Remove NaNs from genre and runtimeMinutes columns"
   ]
  },
  {
   "cell_type": "code",
   "execution_count": 13,
   "id": "01587249",
   "metadata": {
    "scrolled": false
   },
   "outputs": [
    {
     "data": {
      "text/plain": [
       "431836"
      ]
     },
     "execution_count": 13,
     "metadata": {},
     "output_type": "execute_result"
    }
   ],
   "source": [
    "basics['genres'].isna().sum()"
   ]
  },
  {
   "cell_type": "code",
   "execution_count": 14,
   "id": "d6d2bbed",
   "metadata": {},
   "outputs": [
    {
     "data": {
      "text/plain": [
       "6748382"
      ]
     },
     "execution_count": 14,
     "metadata": {},
     "output_type": "execute_result"
    }
   ],
   "source": [
    "basics['runtimeMinutes'].isna().sum()"
   ]
  },
  {
   "cell_type": "code",
   "execution_count": 15,
   "id": "55cd38bd",
   "metadata": {
    "scrolled": true
   },
   "outputs": [],
   "source": [
    "basics.dropna(subset=['genres', 'runtimeMinutes'], inplace=True)"
   ]
  },
  {
   "cell_type": "code",
   "execution_count": 16,
   "id": "c02d61f6",
   "metadata": {
    "scrolled": true
   },
   "outputs": [
    {
     "data": {
      "text/plain": [
       "0"
      ]
     },
     "execution_count": 16,
     "metadata": {},
     "output_type": "execute_result"
    }
   ],
   "source": [
    "basics['genres'].isna().sum()"
   ]
  },
  {
   "cell_type": "code",
   "execution_count": 17,
   "id": "84100bcb",
   "metadata": {},
   "outputs": [
    {
     "data": {
      "text/plain": [
       "0"
      ]
     },
     "execution_count": 17,
     "metadata": {},
     "output_type": "execute_result"
    }
   ],
   "source": [
    "basics['runtimeMinutes'].isna().sum()"
   ]
  },
  {
   "cell_type": "markdown",
   "id": "729a3f16",
   "metadata": {},
   "source": [
    "filter for only movies"
   ]
  },
  {
   "cell_type": "code",
   "execution_count": 18,
   "id": "e7f8d9c7",
   "metadata": {
    "scrolled": true
   },
   "outputs": [
    {
     "data": {
      "text/plain": [
       "tvEpisode       1275363\n",
       "short            585896\n",
       "movie            373895\n",
       "video            177642\n",
       "tvMovie           90226\n",
       "tvSeries          88335\n",
       "tvSpecial         17247\n",
       "tvMiniSeries      16597\n",
       "tvShort            8575\n",
       "videoGame           313\n",
       "Name: titleType, dtype: int64"
      ]
     },
     "execution_count": 18,
     "metadata": {},
     "output_type": "execute_result"
    }
   ],
   "source": [
    "basics['titleType'].value_counts()"
   ]
  },
  {
   "cell_type": "code",
   "execution_count": 19,
   "id": "37343b6c",
   "metadata": {
    "scrolled": true
   },
   "outputs": [
    {
     "data": {
      "text/plain": [
       "movie    373895\n",
       "Name: titleType, dtype: int64"
      ]
     },
     "execution_count": 19,
     "metadata": {},
     "output_type": "execute_result"
    }
   ],
   "source": [
    "basics = basics[basics['titleType'] == 'movie']\n",
    "basics['titleType'].value_counts()"
   ]
  },
  {
   "cell_type": "markdown",
   "id": "8df342c6",
   "metadata": {},
   "source": [
    "Filter for only non-fiction movies"
   ]
  },
  {
   "cell_type": "code",
   "execution_count": 20,
   "id": "3b05f90c",
   "metadata": {},
   "outputs": [],
   "source": [
    "is_doc = basics['genres'].str.contains('documentary',case=False)\n",
    "basics = basics[~is_doc]"
   ]
  },
  {
   "cell_type": "code",
   "execution_count": 21,
   "id": "6df877c1",
   "metadata": {},
   "outputs": [],
   "source": [
    "for i in basics['genres']:\n",
    "    if 'Documentary' in i:\n",
    "        print(i)\n",
    "    elif 'documentary' in i:\n",
    "        print(i)"
   ]
  },
  {
   "cell_type": "markdown",
   "id": "168bcbc6",
   "metadata": {},
   "source": [
    "Keep startYear between and including 2000-2021"
   ]
  },
  {
   "cell_type": "code",
   "execution_count": 22,
   "id": "2e27f99d",
   "metadata": {
    "scrolled": true
   },
   "outputs": [
    {
     "name": "stdout",
     "output_type": "stream",
     "text": [
      "<class 'pandas.core.frame.DataFrame'>\n",
      "Int64Index: 284223 entries, 8 to 9457351\n",
      "Data columns (total 9 columns):\n",
      " #   Column          Non-Null Count   Dtype \n",
      "---  ------          --------------   ----- \n",
      " 0   tconst          284223 non-null  object\n",
      " 1   titleType       284223 non-null  object\n",
      " 2   primaryTitle    284223 non-null  object\n",
      " 3   originalTitle   284223 non-null  object\n",
      " 4   isAdult         284223 non-null  object\n",
      " 5   startYear       279799 non-null  object\n",
      " 6   endYear         0 non-null       object\n",
      " 7   runtimeMinutes  284223 non-null  object\n",
      " 8   genres          284223 non-null  object\n",
      "dtypes: object(9)\n",
      "memory usage: 21.7+ MB\n"
     ]
    }
   ],
   "source": [
    "basics.info()"
   ]
  },
  {
   "cell_type": "code",
   "execution_count": 23,
   "id": "075fa43e",
   "metadata": {},
   "outputs": [
    {
     "name": "stdout",
     "output_type": "stream",
     "text": [
      "2000\n"
     ]
    },
    {
     "data": {
      "text/plain": [
       "'2021'"
      ]
     },
     "execution_count": 23,
     "metadata": {},
     "output_type": "execute_result"
    }
   ],
   "source": [
    "# Shrinking the range of values for releases to movies between\n",
    "# 2000 up to 2021\n",
    "basics = basics[basics['startYear'] >= '2000']\n",
    "basics = basics[basics['startYear'] <= '2021']\n",
    "print(min(basics['startYear']))\n",
    "max(basics['startYear'])"
   ]
  },
  {
   "cell_type": "code",
   "execution_count": 24,
   "id": "87ed8054",
   "metadata": {
    "scrolled": false
   },
   "outputs": [
    {
     "name": "stdout",
     "output_type": "stream",
     "text": [
      "<class 'pandas.core.frame.DataFrame'>\n",
      "Int64Index: 137435 entries, 34804 to 9457351\n",
      "Data columns (total 9 columns):\n",
      " #   Column          Non-Null Count   Dtype \n",
      "---  ------          --------------   ----- \n",
      " 0   tconst          137435 non-null  object\n",
      " 1   titleType       137435 non-null  object\n",
      " 2   primaryTitle    137435 non-null  object\n",
      " 3   originalTitle   137435 non-null  object\n",
      " 4   isAdult         137435 non-null  object\n",
      " 5   startYear       137435 non-null  object\n",
      " 6   endYear         0 non-null       object\n",
      " 7   runtimeMinutes  137435 non-null  object\n",
      " 8   genres          137435 non-null  object\n",
      "dtypes: object(9)\n",
      "memory usage: 10.5+ MB\n"
     ]
    }
   ],
   "source": [
    "basics.info()"
   ]
  },
  {
   "cell_type": "code",
   "execution_count": 25,
   "id": "04b539f1",
   "metadata": {},
   "outputs": [
    {
     "name": "stdout",
     "output_type": "stream",
     "text": [
      "<class 'pandas.core.frame.DataFrame'>\n",
      "Int64Index: 137435 entries, 34804 to 9457351\n",
      "Data columns (total 8 columns):\n",
      " #   Column          Non-Null Count   Dtype \n",
      "---  ------          --------------   ----- \n",
      " 0   tconst          137435 non-null  object\n",
      " 1   titleType       137435 non-null  object\n",
      " 2   primaryTitle    137435 non-null  object\n",
      " 3   originalTitle   137435 non-null  object\n",
      " 4   isAdult         137435 non-null  object\n",
      " 5   startYear       137435 non-null  object\n",
      " 6   runtimeMinutes  137435 non-null  object\n",
      " 7   genres          137435 non-null  object\n",
      "dtypes: object(8)\n",
      "memory usage: 9.4+ MB\n"
     ]
    }
   ],
   "source": [
    "# Removing Empty Column\n",
    "basics.drop(columns='endYear', inplace=True)\n",
    "basics.info()"
   ]
  },
  {
   "cell_type": "markdown",
   "id": "3ab7079c",
   "metadata": {},
   "source": [
    "Keeping only US movies"
   ]
  },
  {
   "cell_type": "code",
   "execution_count": 26,
   "id": "91bdb75f",
   "metadata": {},
   "outputs": [],
   "source": [
    "basics = basics[basics['tconst'].isin(akas['titleId'])]"
   ]
  },
  {
   "cell_type": "code",
   "execution_count": 27,
   "id": "42a52bcf",
   "metadata": {
    "scrolled": true
   },
   "outputs": [
    {
     "name": "stdout",
     "output_type": "stream",
     "text": [
      "<class 'pandas.core.frame.DataFrame'>\n",
      "Int64Index: 80115 entries, 34804 to 9457267\n",
      "Data columns (total 8 columns):\n",
      " #   Column          Non-Null Count  Dtype \n",
      "---  ------          --------------  ----- \n",
      " 0   tconst          80115 non-null  object\n",
      " 1   titleType       80115 non-null  object\n",
      " 2   primaryTitle    80115 non-null  object\n",
      " 3   originalTitle   80115 non-null  object\n",
      " 4   isAdult         80115 non-null  object\n",
      " 5   startYear       80115 non-null  object\n",
      " 6   runtimeMinutes  80115 non-null  object\n",
      " 7   genres          80115 non-null  object\n",
      "dtypes: object(8)\n",
      "memory usage: 5.5+ MB\n"
     ]
    }
   ],
   "source": [
    "basics.info()"
   ]
  },
  {
   "cell_type": "code",
   "execution_count": 28,
   "id": "96c228a4",
   "metadata": {},
   "outputs": [],
   "source": [
    "# Converting necessary columns\n",
    "# into numerical columns\n",
    "basics['startYear'] = basics['startYear'].astype(int)\n",
    "basics['runtimeMinutes'] = basics['runtimeMinutes'].astype(float)\n",
    "basics['isAdult'] = basics['isAdult'].astype(int)"
   ]
  },
  {
   "cell_type": "code",
   "execution_count": 29,
   "id": "a76191cc",
   "metadata": {},
   "outputs": [
    {
     "name": "stdout",
     "output_type": "stream",
     "text": [
      "<class 'pandas.core.frame.DataFrame'>\n",
      "Int64Index: 80115 entries, 34804 to 9457267\n",
      "Data columns (total 8 columns):\n",
      " #   Column          Non-Null Count  Dtype  \n",
      "---  ------          --------------  -----  \n",
      " 0   tconst          80115 non-null  object \n",
      " 1   titleType       80115 non-null  object \n",
      " 2   primaryTitle    80115 non-null  object \n",
      " 3   originalTitle   80115 non-null  object \n",
      " 4   isAdult         80115 non-null  int32  \n",
      " 5   startYear       80115 non-null  int32  \n",
      " 6   runtimeMinutes  80115 non-null  float64\n",
      " 7   genres          80115 non-null  object \n",
      "dtypes: float64(1), int32(2), object(5)\n",
      "memory usage: 4.9+ MB\n"
     ]
    }
   ],
   "source": [
    "basics.info()"
   ]
  },
  {
   "cell_type": "markdown",
   "id": "db960a27",
   "metadata": {},
   "source": [
    "### ratings"
   ]
  },
  {
   "cell_type": "code",
   "execution_count": 30,
   "id": "1ee3ad1e",
   "metadata": {},
   "outputs": [
    {
     "name": "stdout",
     "output_type": "stream",
     "text": [
      "<class 'pandas.core.frame.DataFrame'>\n",
      "RangeIndex: 1258218 entries, 0 to 1258217\n",
      "Data columns (total 3 columns):\n",
      " #   Column         Non-Null Count    Dtype  \n",
      "---  ------         --------------    -----  \n",
      " 0   tconst         1258218 non-null  object \n",
      " 1   averageRating  1258218 non-null  float64\n",
      " 2   numVotes       1258218 non-null  int64  \n",
      "dtypes: float64(1), int64(1), object(1)\n",
      "memory usage: 28.8+ MB\n"
     ]
    }
   ],
   "source": [
    "ratings.info()"
   ]
  },
  {
   "cell_type": "markdown",
   "id": "853cc52f",
   "metadata": {},
   "source": [
    "Changing \\N to NaNs"
   ]
  },
  {
   "cell_type": "code",
   "execution_count": 31,
   "id": "8bc44645",
   "metadata": {},
   "outputs": [],
   "source": [
    "ratings.replace({'\\\\N': np.nan}, inplace=True)"
   ]
  },
  {
   "cell_type": "markdown",
   "id": "30124e2b",
   "metadata": {},
   "source": [
    "Keep only US movies"
   ]
  },
  {
   "cell_type": "code",
   "execution_count": 32,
   "id": "8fd2be21",
   "metadata": {},
   "outputs": [],
   "source": [
    "ratings = ratings[ratings['tconst'].isin(akas['titleId'])]"
   ]
  },
  {
   "cell_type": "code",
   "execution_count": 33,
   "id": "6c4dad25",
   "metadata": {},
   "outputs": [
    {
     "name": "stdout",
     "output_type": "stream",
     "text": [
      "<class 'pandas.core.frame.DataFrame'>\n",
      "Int64Index: 479138 entries, 0 to 1258214\n",
      "Data columns (total 3 columns):\n",
      " #   Column         Non-Null Count   Dtype  \n",
      "---  ------         --------------   -----  \n",
      " 0   tconst         479138 non-null  object \n",
      " 1   averageRating  479138 non-null  float64\n",
      " 2   numVotes       479138 non-null  int64  \n",
      "dtypes: float64(1), int64(1), object(1)\n",
      "memory usage: 14.6+ MB\n"
     ]
    }
   ],
   "source": [
    "ratings.info()"
   ]
  },
  {
   "cell_type": "markdown",
   "id": "21440aa3",
   "metadata": {},
   "source": [
    "# Saving Data on HardDrive"
   ]
  },
  {
   "cell_type": "code",
   "execution_count": 34,
   "id": "92738301",
   "metadata": {},
   "outputs": [
    {
     "data": {
      "text/plain": [
       "[]"
      ]
     },
     "execution_count": 34,
     "metadata": {},
     "output_type": "execute_result"
    }
   ],
   "source": [
    "import os\n",
    "os.makedirs('movie-data/',exist_ok=True) \n",
    "# Confirm folder created\n",
    "os.listdir(\"movie-data/\")"
   ]
  },
  {
   "cell_type": "code",
   "execution_count": 35,
   "id": "9b25ca3b",
   "metadata": {},
   "outputs": [],
   "source": [
    "## Save current dataframe to file.\n",
    "basics.to_csv(\"movie-data/title_basics.csv.gz\",compression='gzip',index=False)"
   ]
  },
  {
   "cell_type": "code",
   "execution_count": 36,
   "id": "7e76bdf8",
   "metadata": {},
   "outputs": [],
   "source": [
    "akas.to_csv(\"movie-data/title_akas.csv.gz\",compression='gzip',index=False)"
   ]
  },
  {
   "cell_type": "code",
   "execution_count": 37,
   "id": "59c53578",
   "metadata": {},
   "outputs": [],
   "source": [
    "ratings.to_csv(\"movie-data/title_ratings.csv.gz\",compression='gzip',index=False)"
   ]
  },
  {
   "cell_type": "code",
   "execution_count": null,
   "id": "5595fe27",
   "metadata": {},
   "outputs": [],
   "source": []
  }
 ],
 "metadata": {
  "kernelspec": {
   "display_name": "Python (dojo-env)",
   "language": "python",
   "name": "dojo-env"
  },
  "language_info": {
   "codemirror_mode": {
    "name": "ipython",
    "version": 3
   },
   "file_extension": ".py",
   "mimetype": "text/x-python",
   "name": "python",
   "nbconvert_exporter": "python",
   "pygments_lexer": "ipython3",
   "version": "3.9.15"
  },
  "toc": {
   "base_numbering": 1,
   "nav_menu": {},
   "number_sections": false,
   "sideBar": true,
   "skip_h1_title": false,
   "title_cell": "Table of Contents",
   "title_sidebar": "Contents",
   "toc_cell": false,
   "toc_position": {
    "height": "calc(100% - 180px)",
    "left": "10px",
    "top": "150px",
    "width": "397.998px"
   },
   "toc_section_display": true,
   "toc_window_display": true
  }
 },
 "nbformat": 4,
 "nbformat_minor": 5
}
